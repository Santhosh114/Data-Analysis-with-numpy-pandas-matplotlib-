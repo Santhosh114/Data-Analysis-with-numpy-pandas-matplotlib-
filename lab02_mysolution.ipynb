{
 "cells": [
  {
   "cell_type": "markdown",
   "metadata": {},
   "source": [
    "# Lab Assignment 01\n",
    "\n",
    "Submit the .ipynb file to Canvas with file name 'lab02_lastname_firstname'.\n",
    "\n",
    "[Internet Movie Database (IMDb)](http://www.imdb.com/) provides various information about movies, such as total budgets, lengths, actors, and user ratings. They are publicly available from [here](http://www.imdb.com/interfaces). In this lab, let's explore a processed dataset named 'imdb.csv', which contains some basic information of movies.\n",
    "\n",
    "Download the file from Canvas. There are 4 columns separated by tab:\n",
    "\n",
    "1. Title: title of the movie;\n",
    "1. Year: release year;\n",
    "1. Rating: average IMDb user rating;\n",
    "1. Votes: number of IMDB users who rated this movie\n",
    "\n",
    "These are the questions to explore:\n",
    "\n",
    "1. What is the first and last year in this dataset? How many movies released in each year?\n",
    "1. What is the average ratings/votes?\n",
    "1. What are the 10 movies that have the highest ratings/votes?\n",
    "1. Get the median ratings of movies released in each decade?\n",
    "1. Get the 5 movies with highest ratings in 1980s and 1990s?\n",
    "\n",
    "Things to note:\n",
    "\n",
    "1. Let's use Python 3.4;\n",
    "2. There are 313,012 lines in the file. When printing things, print selectively.\n"
   ]
  },
  {
   "cell_type": "markdown",
   "metadata": {},
   "source": [
    "# Q1: How many movies released in each year?\n",
    "\n",
    "To do this, we first need to read the CSV file. Python provides the [csv](https://docs.python.org/2/library/csv.html) module to read and write CSV files. The [`csv.reader`](https://docs.python.org/2/library/csv.html#csv.reader) function returns a Python object which will iterate over lines in the given file. Each line is returned as a list of strings, so that we can access a particular column using list index. If we want to ignore the first line, we can use [`islice`](https://docs.python.org/2/library/itertools.html#itertools.islice). It is like slicing a list, but it can slice an iterator (e.g. file stream). For instance, `islice(reader, 0, 5)` means \"give me the first 5 items from the `reader`\". `islice(reader, 1, 5)` means \"give me the 4 items starting from the second item\". \n",
    "\n",
    "A basic usage example to read the first 11 lines of 'imdb.csv':"
   ]
  },
  {
   "cell_type": "code",
   "execution_count": 9,
   "metadata": {
    "collapsed": false
   },
   "outputs": [
    {
     "name": "stdout",
     "output_type": "stream",
     "text": [
      "['Title', 'Year', 'Rating', 'Votes']\n",
      "Year\n",
      "['!Next?', '1994', '5.4', '5']\n",
      "1994\n",
      "['#1 Single', '2006', '6.1', '61']\n",
      "2006\n"
     ]
    }
   ],
   "source": [
    "import csv\n",
    "from itertools import islice\n",
    "\n",
    "f = open('imdb.csv', 'r')\n",
    "reader = csv.reader(f, delimiter='\\t')\n",
    "for row in islice(reader, 0, 3):\n",
    "    print(row)\n",
    "    print(row[1])"
   ]
  },
  {
   "cell_type": "markdown",
   "metadata": {},
   "source": [
    "There are many ways to do Q1. One way is to use [dictionaries](https://docs.python.org/2/tutorial/datastructures.html#dictionaries) where the key: value pairs are:\n",
    "\n",
    "- key: year\n",
    "- value: a list of movie titles or number of movies\n"
   ]
  },
  {
   "cell_type": "code",
   "execution_count": 10,
   "metadata": {
    "collapsed": false
   },
   "outputs": [
    {
     "name": "stdout",
     "output_type": "stream",
     "text": [
      "{2013: 1}\n"
     ]
    }
   ],
   "source": [
    "dt = {}\n",
    "year = 2013\n",
    "if year not in dt:\n",
    "    dt[year] = 1\n",
    "else:\n",
    "    dt[year] += 1\n",
    "print(dt)"
   ]
  },
  {
   "cell_type": "markdown",
   "metadata": {},
   "source": [
    "Python automates the job above by using [`Counter`](https://docs.python.org/3.4/library/collections.html#collections.Counter). "
   ]
  },
  {
   "cell_type": "code",
   "execution_count": 2,
   "metadata": {
    "collapsed": false
   },
   "outputs": [
    {
     "name": "stdout",
     "output_type": "stream",
     "text": [
      "1\n",
      "0\n"
     ]
    }
   ],
   "source": [
    "from collections import Counter\n",
    "\n",
    "movie_counter = Counter()\n",
    "movie_counter[1972] +=1 \n",
    "print(movie_counter[1972])\n",
    "print(movie_counter[1970])"
   ]
  },
  {
   "cell_type": "markdown",
   "metadata": {},
   "source": [
    "Once all lines are read, we want to print the dictionary, which can be done by iterating its key: value pairs."
   ]
  },
  {
   "cell_type": "code",
   "execution_count": 5,
   "metadata": {
    "collapsed": false
   },
   "outputs": [
    {
     "name": "stdout",
     "output_type": "stream",
     "text": [
      "(1972, 1)\n",
      "(1972, 1)\n"
     ]
    }
   ],
   "source": [
    "for key,val in dt.items():\n",
    "    print(key,val)\n",
    "for key,val in movie_counter.items():\n",
    "    print(key,val)"
   ]
  },
  {
   "cell_type": "markdown",
   "metadata": {},
   "source": [
    "You can get the keys (the years) by using `.keys()` function. "
   ]
  },
  {
   "cell_type": "code",
   "execution_count": 6,
   "metadata": {
    "collapsed": false
   },
   "outputs": [
    {
     "data": {
      "text/plain": [
       "[1980, 1972, 2015]"
      ]
     },
     "execution_count": 6,
     "metadata": {},
     "output_type": "execute_result"
    }
   ],
   "source": [
    "movie_counter[1980] += 5\n",
    "movie_counter[2015] += 1\n",
    "movie_counter.keys()"
   ]
  },
  {
   "cell_type": "markdown",
   "metadata": {},
   "source": [
    "and you have convenient functions like [`min()`](https://docs.python.org/2/library/functions.html#min) and [`max()`](https://docs.python.org/2/library/functions.html#max) for calculating the min and max value of a list or iterable. "
   ]
  },
  {
   "cell_type": "code",
   "execution_count": 25,
   "metadata": {
    "collapsed": false
   },
   "outputs": [
    {
     "name": "stdout",
     "output_type": "stream",
     "text": [
      "0\n",
      "1000\n"
     ]
    }
   ],
   "source": [
    "alist = [23,3,5,4,2,1,1,0,1000]\n",
    "print(min(alist))\n",
    "print(max(alist))"
   ]
  },
  {
   "cell_type": "markdown",
   "metadata": {},
   "source": [
    "**Code for Q1**"
   ]
  },
  {
   "cell_type": "code",
   "execution_count": 11,
   "metadata": {
    "collapsed": false
   },
   "outputs": [
    {
     "name": "stdout",
     "output_type": "stream",
     "text": [
      "\n",
      "\n",
      "the min year is\n",
      "1874\n",
      "the max year is\n",
      "2017\n",
      "\n",
      "\n",
      "the movies released in each year sorted with max no of movies first:\n",
      "\n",
      "\n",
      "Counter({'2011': 13944, '2012': 13887, '2013': 13048, '2010': 12931, '2009': 12268, '2008': 11095, '2014': 10862, '2007': 10147, '2006': 10115, '2005': 9508, '2004': 8584, '2003': 7355, '2002': 6694, '2001': 6042, '2000': 5575, '1999': 5138, '1998': 4651, '2015': 4402, '1997': 4353, '1996': 3923, '1995': 3698, '1994': 3415, '1989': 3193, '1992': 3136, '1993': 3128, '1990': 3093, '1988': 3054, '1987': 3049, '1991': 2993, '1985': 2908, '1986': 2882, '1984': 2779, '1983': 2647, '1982': 2537, '1979': 2526, '1981': 2485, '1972': 2445, '1980': 2438, '1976': 2399, '1974': 2392, '1978': 2386, '1971': 2370, '1973': 2325, '1969': 2320, '1975': 2286, '1977': 2264, '1970': 2240, '1968': 2199, '1967': 2086, '1966': 2025, '1965': 1896, '1964': 1823, '1962': 1669, '1963': 1635, '1961': 1623, '1957': 1604, '1959': 1572, '1960': 1567, '1958': 1533, '1956': 1479, '1955': 1476, '1954': 1397, '1953': 1393, '1951': 1318, '1952': 1316, '1950': 1283, '1937': 1245, '1936': 1235, '1938': 1230, '1949': 1208, '1942': 1193, '1935': 1174, '1941': 1169, '1939': 1162, '1940': 1160, '1934': 1120, '1943': 1105, '1948': 1084, '1932': 1026, '1933': 1024, '1947': 1010, '1944': 969, '1946': 952, '1931': 939, '1945': 876, '1930': 836, '1896': 678, '1929': 671, '1928': 609, '1927': 581, '1926': 554, '1925': 508, '1897': 479, '1924': 466, '1909': 405, '1923': 393, '1910': 389, '1912': 376, '1915': 361, '1921': 345, '1922': 328, '1916': 328, '1920': 323, '1898': 321, '1917': 317, '1914': 315, '1919': 313, '1913': 311, '1911': 309, '1918': 286, '1908': 267, '1900': 265, '1903': 261, '1901': 254, '1899': 242, '1902': 217, '1904': 214, '1907': 197, '1906': 182, '1905': 177, '1895': 116, '1894': 94, '1891': 9, '1892': 9, '1890': 5, '1888': 5, '2016': 2, '1893': 2, '1889': 2, '2017': 1, '1878': 1, '1874': 1, '1887': 1})\n",
      "\n",
      "\n"
     ]
    }
   ],
   "source": [
    "# implement below\n",
    "import csv\n",
    "import collections\n",
    "from itertools import islice\n",
    "from collections import Counter\n",
    "\n",
    "lt = []\n",
    "\n",
    "f = open('imdb.csv', 'r')\n",
    "reader = csv.reader(f, delimiter='\\t')\n",
    "for row in islice(reader, 1, None):\n",
    "    lt.append(row[1])\n",
    "\n",
    "\n",
    "print('\\n')\n",
    "print('the min year is')\n",
    "print(min(lt))\n",
    "print('the max year is')\n",
    "print(max(lt)) \n",
    "print('\\n')\n",
    "print('the movies released in each year sorted with max no of movies first:')\n",
    "print('\\n')\n",
    "print collections.Counter(lt)\n",
    "print('\\n')\n",
    "\n",
    "\n"
   ]
  },
  {
   "cell_type": "markdown",
   "metadata": {},
   "source": [
    "# Q2: Average ratings/votes\n",
    "\n",
    "We can store the ratings/votes column as a list and then calculate various basic statistics (mean, median, etc.). To do this, we can use the [NumPy](http://www.numpy.org/) library and call the function [`numpy.mean`](http://docs.scipy.org/doc/numpy/reference/generated/numpy.mean.html) and [`numpy.median`](http://docs.scipy.org/doc/numpy/reference/generated/numpy.median.html). For example,"
   ]
  },
  {
   "cell_type": "code",
   "execution_count": 14,
   "metadata": {
    "collapsed": false
   },
   "outputs": [
    {
     "name": "stdout",
     "output_type": "stream",
     "text": [
      "3.16666666667\n",
      "2.5\n"
     ]
    }
   ],
   "source": [
    "import numpy as np\n",
    "\n",
    "alist = [1,3,6,2,5,2]\n",
    "print(np.mean(alist))\n",
    "print(np.median(alist))"
   ]
  },
  {
   "cell_type": "markdown",
   "metadata": {},
   "source": [
    "**Code for Q2**"
   ]
  },
  {
   "cell_type": "code",
   "execution_count": 2,
   "metadata": {
    "collapsed": false
   },
   "outputs": [
    {
     "name": "stdout",
     "output_type": "stream",
     "text": [
      "6.5\n",
      "[ 1.   1.   1.  ...,  9.8  9.8  9.9]\n",
      "6.29619534138\n"
     ]
    }
   ],
   "source": [
    "# implement below\n",
    "import csv\n",
    "import numpy as np\n",
    "from array import array\n",
    "from itertools import islice\n",
    "\n",
    "\n",
    "lt = []\n",
    "f = open('imdb.csv', 'r')\n",
    "reader = csv.reader(f, delimiter='\\t')\n",
    "for row in islice(reader, 1, None):\n",
    "    lt.append(float(row[2]))\n",
    "a = np.array(lt)\n",
    "\n",
    "print np.median(lt)\n",
    "\n",
    "a.sort()\n",
    "print(a)\n",
    "x=np.mean(a)\n",
    "#x= np.mean(a, axis=None, dtype=None, out=None, keepdims=False)\n",
    "print x\n",
    "\n"
   ]
  },
  {
   "cell_type": "markdown",
   "metadata": {},
   "source": [
    "# Q3: Top 10 movies\n",
    "\n",
    "Store the movie titles and ratings information as a dictonary:\n",
    "\n",
    "- key: movie title\n",
    "- value: movie rating\n",
    "\n",
    "Then, we can sort the dictionary based on its values, which will return a list of [tuples](https://docs.python.org/2/tutorial/datastructures.html#tuples-and-sequences). Note to print only the top 10 movies."
   ]
  },
  {
   "cell_type": "code",
   "execution_count": 10,
   "metadata": {
    "collapsed": false
   },
   "outputs": [
    {
     "name": "stdout",
     "output_type": "stream",
     "text": [
      "[(1981, 55), (1980, 50), (1975, 10), (1971, 2), (1962, 1)]\n",
      "(1981, 55)\n",
      "(1980, 50)\n",
      "(1975, 10)\n",
      "(1971, 2)\n",
      "(1962, 1)\n"
     ]
    }
   ],
   "source": [
    "import operator\n",
    "\n",
    "dt = {1971: 2, 1975: 10, 1962: 1, 1980: 50, 1981: 55}\n",
    "sorted_x_by_val = sorted( dt.items(), key=operator.itemgetter(1), reverse=True )\n",
    "print(sorted_x_by_val)\n",
    "for elem in sorted_x_by_val:\n",
    "    print(elem[0],elem[1])"
   ]
  },
  {
   "cell_type": "markdown",
   "metadata": {},
   "source": [
    "**Code for Q3**"
   ]
  },
  {
   "cell_type": "code",
   "execution_count": 23,
   "metadata": {
    "collapsed": false
   },
   "outputs": [
    {
     "name": "stdout",
     "output_type": "stream",
     "text": [
      "('Untitled Spider-Man Reboot', '2017')\n",
      "('Tarzan', '2016')\n",
      "('Hood', '2016')\n",
      "('The Timber', '2015')\n",
      "('Living with the Dead', '2015')\n",
      "('Raising Ryland', '2015')\n",
      "('Stitchers', '2015')\n",
      "('Project MC\\xc2\\xb2', '2015')\n",
      "('North v South', '2015')\n",
      "('Biff Wellington', '2015')\n"
     ]
    }
   ],
   "source": [
    "# implement below\n",
    "import operator\n",
    "import csv\n",
    "from itertools import islice\n",
    "\n",
    "dc = {}\n",
    "dlist = []\n",
    "f = open('imdb.csv', 'r')\n",
    "reader = csv.reader(f, delimiter='\\t')\n",
    "for row in islice(reader, 1, None):\n",
    "    dlist.append([row[0],row[1]])\n",
    "dc=dict(dlist)\n",
    "\n",
    "\n",
    "#for elem in dic_list[:10]:\n",
    "#    print(elem[0],elem[1])\n",
    "                    \n",
    "sortdval = sorted(dc.items(), key=operator.itemgetter(1), reverse=True)\n",
    "\n",
    "for elem in sortdval[:10]:\n",
    "    print(elem[0],    elem[1])\n",
    "\n",
    "    \n"
   ]
  },
  {
   "cell_type": "markdown",
   "metadata": {},
   "source": [
    "# Q4: Median ratings of movies in each decade\n",
    "\n",
    "We first need to transform year to decade, e.g., 1984 -> 1980s.\n"
   ]
  },
  {
   "cell_type": "code",
   "execution_count": 13,
   "metadata": {
    "collapsed": false
   },
   "outputs": [
    {
     "name": "stdout",
     "output_type": "stream",
     "text": [
      "198\n",
      "1980s\n"
     ]
    }
   ],
   "source": [
    "year = '1984'\n",
    "print(year[:3])\n",
    "print(year[:3]+'0s')\n",
    "de"
   ]
  },
  {
   "cell_type": "markdown",
   "metadata": {},
   "source": [
    "We then use a dictionary to store rating information:\n",
    "\n",
    "- key: decade\n",
    "- value: a list of ratings of movies released in the decade\n"
   ]
  },
  {
   "cell_type": "code",
   "execution_count": 15,
   "metadata": {
    "collapsed": false
   },
   "outputs": [
    {
     "name": "stdout",
     "output_type": "stream",
     "text": [
      "{'1980s': [7.5]}\n"
     ]
    }
   ],
   "source": [
    "decade_to_r = {}\n",
    "decade = '1980s'\n",
    "if decade not in decade_to_r:\n",
    "    decade_to_r[decade] = []\n",
    "decade_to_r[decade].append(7.5)\n",
    "print(decade_to_r)"
   ]
  },
  {
   "cell_type": "markdown",
   "metadata": {},
   "source": [
    "Python automates the job above by using [defaultdict](https://docs.python.org/2/library/collections.html#collections.defaultdict)."
   ]
  },
  {
   "cell_type": "code",
   "execution_count": 17,
   "metadata": {
    "collapsed": false
   },
   "outputs": [
    {
     "name": "stdout",
     "output_type": "stream",
     "text": [
      "defaultdict(<type 'list'>, {'1980s': [7.5, 9.1]})\n",
      "[]\n"
     ]
    }
   ],
   "source": [
    "from collections import defaultdict\n",
    "\n",
    "dec_to_r = defaultdict(list)\n",
    "dec_to_r['1980s'].append(7.5)\n",
    "dec_to_r['1980s'].append(9.1)\n",
    "print(dec_to_r)\n",
    "print(dec_to_r['1970s'])"
   ]
  },
  {
   "cell_type": "markdown",
   "metadata": {},
   "source": [
    "**Code for Q4**"
   ]
  },
  {
   "cell_type": "code",
   "execution_count": 80,
   "metadata": {
    "collapsed": false
   },
   "outputs": [
    {
     "name": "stdout",
     "output_type": "stream",
     "text": [
      "['196', '196', '197', '197', '197', '198', '198', '198', '198', '199', '199', '199', '199', '199', '200', '200', '200', '200', '200', '200', '200', '200', '200', '200', '200', '200', '200', '200', '200', '200', '200', '200', '200', '200', '200', '200', '200', '200', '200', '200', '200', '200', '200', '200', '201', '201', '201', '201', '201', '201', '201', '201', '201', '201', '201', '201', '201', '201', '201']\n"
     ]
    },
    {
     "ename": "TypeError",
     "evalue": "unhashable type: 'list'",
     "output_type": "error",
     "traceback": [
      "\u001b[0;31m---------------------------------------------------------------------------\u001b[0m",
      "\u001b[0;31mTypeError\u001b[0m                                 Traceback (most recent call last)",
      "\u001b[0;32m<ipython-input-80-ff18110724f0>\u001b[0m in \u001b[0;36m<module>\u001b[0;34m()\u001b[0m\n\u001b[1;32m     32\u001b[0m \u001b[0mdecade_to_r\u001b[0m \u001b[0;34m=\u001b[0m \u001b[0;34m{\u001b[0m\u001b[0;34m}\u001b[0m\u001b[0;34m\u001b[0m\u001b[0m\n\u001b[1;32m     33\u001b[0m \u001b[0;34m\u001b[0m\u001b[0m\n\u001b[0;32m---> 34\u001b[0;31m \u001b[0;32mif\u001b[0m \u001b[0myr\u001b[0m \u001b[0;32mnot\u001b[0m \u001b[0;32min\u001b[0m \u001b[0mdecade_to_r\u001b[0m\u001b[0;34m:\u001b[0m\u001b[0;34m\u001b[0m\u001b[0m\n\u001b[0m\u001b[1;32m     35\u001b[0m     \u001b[0mdecade_to_r\u001b[0m\u001b[0;34m[\u001b[0m\u001b[0myr\u001b[0m\u001b[0;34m]\u001b[0m \u001b[0;34m=\u001b[0m \u001b[0;34m[\u001b[0m\u001b[0;34m]\u001b[0m\u001b[0;34m\u001b[0m\u001b[0m\n\u001b[1;32m     36\u001b[0m \u001b[0mdecade_to_r\u001b[0m\u001b[0;34m[\u001b[0m\u001b[0mdecade\u001b[0m\u001b[0;34m]\u001b[0m\u001b[0;34m.\u001b[0m\u001b[0mappend\u001b[0m\u001b[0;34m(\u001b[0m\u001b[0mrow\u001b[0m\u001b[0;34m[\u001b[0m\u001b[0;36m2\u001b[0m\u001b[0;34m]\u001b[0m\u001b[0;34m)\u001b[0m\u001b[0;34m\u001b[0m\u001b[0m\n",
      "\u001b[0;31mTypeError\u001b[0m: unhashable type: 'list'"
     ]
    }
   ],
   "source": [
    "# implement below\n",
    "import csv\n",
    "import numpy as np\n",
    "from itertools import islice\n",
    "from collections import defaultdict\n",
    "\n",
    "yr=[]\n",
    "decade=[]\n",
    "ten = {}\n",
    "f = open('imdb.csv', 'r')\n",
    "reader = csv.reader(f, delimiter='\\t')\n",
    "for row in islice(reader, 1, 60):\n",
    "    yr.append(row[1][:3])\n",
    "yr.sort()\n",
    "tuple(yr)\n",
    "print(yr)\n",
    "\n",
    "#print (yr)\n",
    "#for num in yr\n",
    "#    print(num)\n",
    "#i=1\n",
    "#for i in range(1,20):\n",
    "#    path=[int(row[i][:3])]\n",
    "#print (path)\n",
    "#ten = {path, path.append(row[2])}\n",
    "#print (ten)\n",
    "#year = row[1][:3]\n",
    "#decade = row[1][:3] + '0s'\n",
    "#print('decade is '+decade)\n",
    "\n",
    "#tuple(yr)\n",
    "decade_to_r = {}\n",
    "\n",
    "if yr not in decade_to_r:\n",
    "    decade_to_r[yr] = []\n",
    "decade_to_r[decade].append(row[2])\n",
    "dec_to_r = defaultdict(list)\n",
    "print(dec_to_r)\n",
    "\n",
    "\n"
   ]
  },
  {
   "cell_type": "markdown",
   "metadata": {},
   "source": [
    "# Q5: 5 movies with highest ratings in each decade"
   ]
  },
  {
   "cell_type": "markdown",
   "metadata": {},
   "source": [
    "Differnt from Q4, we now need to store not only ratings but also movie titles. This can be done by setting vaules in the dictonary as dictonaries.\n",
    "\n",
    "- key: decade\n",
    "- value: a dictonary mapping from movie titles to ratings\n"
   ]
  },
  {
   "cell_type": "code",
   "execution_count": 19,
   "metadata": {
    "collapsed": false
   },
   "outputs": [
    {
     "name": "stdout",
     "output_type": "stream",
     "text": [
      "defaultdict(<type 'dict'>, {'1970s': {'The Godfather': 9.2}})\n",
      "{'The Godfather': 9.2}\n"
     ]
    }
   ],
   "source": [
    "dec_to_title_to_rating = defaultdict(dict)\n",
    "dec_to_title_to_rating['1970s']['The Godfather'] = 9.2\n",
    "print(dec_to_title_to_rating)\n",
    "print(dec_to_title_to_rating['1970s'])"
   ]
  },
  {
   "cell_type": "markdown",
   "metadata": {},
   "source": [
    "**Code for Q5**"
   ]
  },
  {
   "cell_type": "code",
   "execution_count": null,
   "metadata": {
    "collapsed": false
   },
   "outputs": [],
   "source": []
  },
  {
   "cell_type": "code",
   "execution_count": null,
   "metadata": {
    "collapsed": false
   },
   "outputs": [],
   "source": []
  }
 ],
 "metadata": {
  "kernelspec": {
   "display_name": "Python 2",
   "language": "python",
   "name": "python2"
  },
  "language_info": {
   "codemirror_mode": {
    "name": "ipython",
    "version": 2
   },
   "file_extension": ".py",
   "mimetype": "text/x-python",
   "name": "python",
   "nbconvert_exporter": "python",
   "pygments_lexer": "ipython2",
   "version": "2.7.9"
  }
 },
 "nbformat": 4,
 "nbformat_minor": 0
}
